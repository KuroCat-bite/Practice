{
  "nbformat": 4,
  "nbformat_minor": 0,
  "metadata": {
    "colab": {
      "name": "Shape and Operation.ipynb",
      "provenance": [],
      "authorship_tag": "ABX9TyO7X7WeVJGZmLvcrzAZnTMo",
      "include_colab_link": true
    },
    "kernelspec": {
      "name": "python3",
      "display_name": "Python 3"
    },
    "language_info": {
      "name": "python"
    }
  },
  "cells": [
    {
      "cell_type": "markdown",
      "metadata": {
        "id": "view-in-github",
        "colab_type": "text"
      },
      "source": [
        "<a href=\"https://colab.research.google.com/github/KuroCat-bite/Practice/blob/main/Shape_and_Operation.ipynb\" target=\"_parent\"><img src=\"https://colab.research.google.com/assets/colab-badge.svg\" alt=\"Open In Colab\"/></a>"
      ]
    },
    {
      "cell_type": "markdown",
      "source": [
        "Shape and Operation"
      ],
      "metadata": {
        "id": "iRc7DF8OinvS"
      }
    },
    {
      "cell_type": "markdown",
      "source": [
        "* reshape : mengubah dimensi (shape) dari sebuah numpy array\n",
        "* vstack : stack numpy arrays secara vertikal\n",
        "* hstack : stack numpy arrays secara horizontal\n",
        "* vsplit : split numpy arrays secara vertikal\n",
        "* hsplit : split numpy arrays secara horizontal"
      ],
      "metadata": {
        "id": "OoEIVIgwijAc"
      }
    },
    {
      "cell_type": "code",
      "source": [
        "import numpy as np"
      ],
      "metadata": {
        "id": "S_YtOG9XWyNy"
      },
      "execution_count": 2,
      "outputs": []
    },
    {
      "cell_type": "code",
      "source": [
        "a = np.array([(1, 2, 3), (4, 5, 6)])\n",
        "a"
      ],
      "metadata": {
        "colab": {
          "base_uri": "https://localhost:8080/"
        },
        "id": "jyUyEzYJW17C",
        "outputId": "b391f729-4851-4114-e2d0-323937a05762"
      },
      "execution_count": 85,
      "outputs": [
        {
          "output_type": "execute_result",
          "data": {
            "text/plain": [
              "array([[1, 2, 3],\n",
              "       [4, 5, 6]])"
            ]
          },
          "metadata": {},
          "execution_count": 85
        }
      ]
    },
    {
      "cell_type": "code",
      "source": [
        "a = a.reshape((3, -1))\n",
        "a"
      ],
      "metadata": {
        "colab": {
          "base_uri": "https://localhost:8080/"
        },
        "id": "ZgkHeUEpg_2B",
        "outputId": "2703c0f5-f2ce-484c-e9af-d506250b58c2"
      },
      "execution_count": 82,
      "outputs": [
        {
          "output_type": "execute_result",
          "data": {
            "text/plain": [
              "array([[1, 2],\n",
              "       [3, 4],\n",
              "       [5, 6]])"
            ]
          },
          "metadata": {},
          "execution_count": 82
        }
      ]
    },
    {
      "cell_type": "code",
      "source": [
        "b = np.array([(7, 8), (9, 10,)])\n",
        "\n",
        "B"
      ],
      "metadata": {
        "colab": {
          "base_uri": "https://localhost:8080/"
        },
        "id": "-wn4KXkdYHcT",
        "outputId": "e6a2ef91-3675-40a8-b0ff-77fce9d2fffb"
      },
      "execution_count": 65,
      "outputs": [
        {
          "output_type": "execute_result",
          "data": {
            "text/plain": [
              "array([[ 7,  8,  9],\n",
              "       [ 9, 10, 11]])"
            ]
          },
          "metadata": {},
          "execution_count": 65
        }
      ]
    },
    {
      "cell_type": "code",
      "source": [
        "np.vstack ((a, b))\n"
      ],
      "metadata": {
        "colab": {
          "base_uri": "https://localhost:8080/"
        },
        "id": "AbbafHbIXQkk",
        "outputId": "ba60b5d3-0cef-4ef2-8309-b363fdbf0851"
      },
      "execution_count": 83,
      "outputs": [
        {
          "output_type": "execute_result",
          "data": {
            "text/plain": [
              "array([[ 1,  2],\n",
              "       [ 3,  4],\n",
              "       [ 5,  6],\n",
              "       [ 7,  8],\n",
              "       [ 9, 10]])"
            ]
          },
          "metadata": {},
          "execution_count": 83
        }
      ]
    },
    {
      "cell_type": "code",
      "source": [
        "c = np.array([(11, 12, 13), (14, 15, 16)])\n",
        "\n",
        "c"
      ],
      "metadata": {
        "colab": {
          "base_uri": "https://localhost:8080/"
        },
        "id": "KRfQgeBhjJwY",
        "outputId": "b3851d6f-8fd2-4e96-e5ed-86857b83b98e"
      },
      "execution_count": 71,
      "outputs": [
        {
          "output_type": "execute_result",
          "data": {
            "text/plain": [
              "array([[11, 12, 13],\n",
              "       [14, 15, 16]])"
            ]
          },
          "metadata": {},
          "execution_count": 71
        }
      ]
    },
    {
      "cell_type": "code",
      "source": [
        "d = np.array((a, c))\n",
        "\n",
        "d"
      ],
      "metadata": {
        "colab": {
          "base_uri": "https://localhost:8080/"
        },
        "id": "FKjSydpIXgZt",
        "outputId": "e189790f-0104-4a97-923b-56787562956b"
      },
      "execution_count": 87,
      "outputs": [
        {
          "output_type": "execute_result",
          "data": {
            "text/plain": [
              "array([[[ 1,  2,  3],\n",
              "        [ 4,  5,  6]],\n",
              "\n",
              "       [[11, 12, 13],\n",
              "        [14, 15, 16]]])"
            ]
          },
          "metadata": {},
          "execution_count": 87
        }
      ]
    },
    {
      "cell_type": "code",
      "source": [
        "d = np.hstack((a, c))\n",
        "\n",
        "d"
      ],
      "metadata": {
        "colab": {
          "base_uri": "https://localhost:8080/"
        },
        "id": "mhlllMgZjmwR",
        "outputId": "60952ff0-8d43-40cb-9f42-d8bf0a618f19"
      },
      "execution_count": 89,
      "outputs": [
        {
          "output_type": "execute_result",
          "data": {
            "text/plain": [
              "array([[ 1,  2,  3, 11, 12, 13],\n",
              "       [ 4,  5,  6, 14, 15, 16]])"
            ]
          },
          "metadata": {},
          "execution_count": 89
        }
      ]
    },
    {
      "cell_type": "code",
      "source": [
        "np.vsplit(d, 2)"
      ],
      "metadata": {
        "colab": {
          "base_uri": "https://localhost:8080/"
        },
        "id": "BfdDQkWInMMo",
        "outputId": "ffe66138-e900-47f6-bb0a-3f81b6c00746"
      },
      "execution_count": 91,
      "outputs": [
        {
          "output_type": "execute_result",
          "data": {
            "text/plain": [
              "[array([[ 1,  2,  3, 11, 12, 13]]), array([[ 4,  5,  6, 14, 15, 16]])]"
            ]
          },
          "metadata": {},
          "execution_count": 91
        }
      ]
    },
    {
      "cell_type": "code",
      "source": [
        "np.hsplit(d, 3) "
      ],
      "metadata": {
        "colab": {
          "base_uri": "https://localhost:8080/"
        },
        "id": "4kE7Utv4oFJJ",
        "outputId": "f6fdb23f-ec26-4338-de39-d0a50e553fbd"
      },
      "execution_count": 100,
      "outputs": [
        {
          "output_type": "execute_result",
          "data": {
            "text/plain": [
              "[array([[1, 2],\n",
              "        [4, 5]]), array([[ 3, 11],\n",
              "        [ 6, 14]]), array([[12, 13],\n",
              "        [15, 16]])]"
            ]
          },
          "metadata": {},
          "execution_count": 100
        }
      ]
    },
    {
      "cell_type": "code",
      "source": [
        " np.hsplit(d, (1, 3)) # split setelah kolum 1 dan kolum 3"
      ],
      "metadata": {
        "colab": {
          "base_uri": "https://localhost:8080/"
        },
        "id": "REKftfSloQto",
        "outputId": "1246d48a-432b-4620-e76c-940fbe90c886"
      },
      "execution_count": 96,
      "outputs": [
        {
          "output_type": "execute_result",
          "data": {
            "text/plain": [
              "[array([[1],\n",
              "        [4]]), array([[2, 3],\n",
              "        [5, 6]]), array([[11, 12, 13],\n",
              "        [14, 15, 16]])]"
            ]
          },
          "metadata": {},
          "execution_count": 96
        }
      ]
    },
    {
      "cell_type": "code",
      "source": [
        "e = np.array(((1, 2, 3,), (4, 5, 6), (7, 8, 9)))\n",
        "e"
      ],
      "metadata": {
        "colab": {
          "base_uri": "https://localhost:8080/"
        },
        "id": "lTyYtwwJN2nQ",
        "outputId": "374e39a5-3301-41bc-c2a0-bd994cff07ae"
      },
      "execution_count": 3,
      "outputs": [
        {
          "output_type": "execute_result",
          "data": {
            "text/plain": [
              "array([[1, 2, 3],\n",
              "       [4, 5, 6],\n",
              "       [7, 8, 9]])"
            ]
          },
          "metadata": {},
          "execution_count": 3
        }
      ]
    },
    {
      "cell_type": "code",
      "source": [
        "f = np.array((10, 11, 12))\n",
        "f"
      ],
      "metadata": {
        "colab": {
          "base_uri": "https://localhost:8080/"
        },
        "id": "EYrH2HruO84I",
        "outputId": "9691dd43-8621-49c1-9dca-b3bab006cb36"
      },
      "execution_count": 13,
      "outputs": [
        {
          "output_type": "execute_result",
          "data": {
            "text/plain": [
              "array([10, 11, 12])"
            ]
          },
          "metadata": {},
          "execution_count": 13
        }
      ]
    },
    {
      "cell_type": "code",
      "source": [
        "np.linspace(f,(10, 12, 0.5 ))\n"
      ],
      "metadata": {
        "colab": {
          "base_uri": "https://localhost:8080/"
        },
        "id": "KWc6wGe1QDfw",
        "outputId": "1a63ed4d-0d66-496d-9193-e074625ed45f"
      },
      "execution_count": 15,
      "outputs": [
        {
          "output_type": "execute_result",
          "data": {
            "text/plain": [
              "array([[10.        , 11.        , 12.        ],\n",
              "       [10.        , 11.02040816, 11.76530612],\n",
              "       [10.        , 11.04081633, 11.53061224],\n",
              "       [10.        , 11.06122449, 11.29591837],\n",
              "       [10.        , 11.08163265, 11.06122449],\n",
              "       [10.        , 11.10204082, 10.82653061],\n",
              "       [10.        , 11.12244898, 10.59183673],\n",
              "       [10.        , 11.14285714, 10.35714286],\n",
              "       [10.        , 11.16326531, 10.12244898],\n",
              "       [10.        , 11.18367347,  9.8877551 ],\n",
              "       [10.        , 11.20408163,  9.65306122],\n",
              "       [10.        , 11.2244898 ,  9.41836735],\n",
              "       [10.        , 11.24489796,  9.18367347],\n",
              "       [10.        , 11.26530612,  8.94897959],\n",
              "       [10.        , 11.28571429,  8.71428571],\n",
              "       [10.        , 11.30612245,  8.47959184],\n",
              "       [10.        , 11.32653061,  8.24489796],\n",
              "       [10.        , 11.34693878,  8.01020408],\n",
              "       [10.        , 11.36734694,  7.7755102 ],\n",
              "       [10.        , 11.3877551 ,  7.54081633],\n",
              "       [10.        , 11.40816327,  7.30612245],\n",
              "       [10.        , 11.42857143,  7.07142857],\n",
              "       [10.        , 11.44897959,  6.83673469],\n",
              "       [10.        , 11.46938776,  6.60204082],\n",
              "       [10.        , 11.48979592,  6.36734694],\n",
              "       [10.        , 11.51020408,  6.13265306],\n",
              "       [10.        , 11.53061224,  5.89795918],\n",
              "       [10.        , 11.55102041,  5.66326531],\n",
              "       [10.        , 11.57142857,  5.42857143],\n",
              "       [10.        , 11.59183673,  5.19387755],\n",
              "       [10.        , 11.6122449 ,  4.95918367],\n",
              "       [10.        , 11.63265306,  4.7244898 ],\n",
              "       [10.        , 11.65306122,  4.48979592],\n",
              "       [10.        , 11.67346939,  4.25510204],\n",
              "       [10.        , 11.69387755,  4.02040816],\n",
              "       [10.        , 11.71428571,  3.78571429],\n",
              "       [10.        , 11.73469388,  3.55102041],\n",
              "       [10.        , 11.75510204,  3.31632653],\n",
              "       [10.        , 11.7755102 ,  3.08163265],\n",
              "       [10.        , 11.79591837,  2.84693878],\n",
              "       [10.        , 11.81632653,  2.6122449 ],\n",
              "       [10.        , 11.83673469,  2.37755102],\n",
              "       [10.        , 11.85714286,  2.14285714],\n",
              "       [10.        , 11.87755102,  1.90816327],\n",
              "       [10.        , 11.89795918,  1.67346939],\n",
              "       [10.        , 11.91836735,  1.43877551],\n",
              "       [10.        , 11.93877551,  1.20408163],\n",
              "       [10.        , 11.95918367,  0.96938776],\n",
              "       [10.        , 11.97959184,  0.73469388],\n",
              "       [10.        , 12.        ,  0.5       ]])"
            ]
          },
          "metadata": {},
          "execution_count": 15
        }
      ]
    },
    {
      "cell_type": "code",
      "source": [
        "np.vstack((f, e))"
      ],
      "metadata": {
        "colab": {
          "base_uri": "https://localhost:8080/"
        },
        "id": "lhY-ZaZAOOno",
        "outputId": "25c1a90b-c48d-4374-9085-f5fba285ecfc"
      },
      "execution_count": 17,
      "outputs": [
        {
          "output_type": "execute_result",
          "data": {
            "text/plain": [
              "array([[10, 11, 12],\n",
              "       [ 1,  2,  3],\n",
              "       [ 4,  5,  6],\n",
              "       [ 7,  8,  9]])"
            ]
          },
          "metadata": {},
          "execution_count": 17
        }
      ]
    }
  ]
}