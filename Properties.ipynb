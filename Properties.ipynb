{
  "nbformat": 4,
  "nbformat_minor": 0,
  "metadata": {
    "colab": {
      "name": "Properties.ipynb",
      "provenance": [],
      "authorship_tag": "ABX9TyMyHIBzIPVbcFjkB2XcJPYX",
      "include_colab_link": true
    },
    "kernelspec": {
      "name": "python3",
      "display_name": "Python 3"
    },
    "language_info": {
      "name": "python"
    }
  },
  "cells": [
    {
      "cell_type": "markdown",
      "metadata": {
        "id": "view-in-github",
        "colab_type": "text"
      },
      "source": [
        "<a href=\"https://colab.research.google.com/github/KuroCat-bite/Practice/blob/main/Properties.ipynb\" target=\"_parent\"><img src=\"https://colab.research.google.com/assets/colab-badge.svg\" alt=\"Open In Colab\"/></a>"
      ]
    },
    {
      "cell_type": "markdown",
      "source": [
        "# Properties\n",
        "* ndarray.ndim : dimensi (rank) dari sebuah nump array\n",
        "* ndarray.shape : baris dan kolum dari sebuah numpy array\n",
        "* ndarray.size : jumlah elemen di numpy array\n",
        "* ndarray.dtype : tipe data dari elemen yang ada di numpy array\n",
        "* ndarray.itemsize : ukuran elemen (bytes) yang ada di numpy array\n",
        "* ndarray.data : buffer untuk menyimpan elemen-elemen di numpy array\n"
      ],
      "metadata": {
        "id": "EPYw8eXVvcWd"
      }
    },
    {
      "cell_type": "code",
      "source": [
        "import numpy as np"
      ],
      "metadata": {
        "id": "kW4Bhq7BzNyL"
      },
      "execution_count": 4,
      "outputs": []
    },
    {
      "cell_type": "code",
      "source": [
        "a= np.array([1, 2, 3])\n",
        "b= np.array([(1, 2, 3), (4, 5, 6)])\n",
        "\n",
        "print(a.ndim)\n",
        "print(a.shape)\n",
        "print(a.size)\n",
        "print(a.dtype)\n",
        "print(a.itemsize)"
      ],
      "metadata": {
        "colab": {
          "base_uri": "https://localhost:8080/"
        },
        "id": "f4iF31Rvtj27",
        "outputId": "422035f2-0d21-49c3-e9c9-ccebf8d0b29d"
      },
      "execution_count": 5,
      "outputs": [
        {
          "output_type": "stream",
          "name": "stdout",
          "text": [
            "1\n",
            "(3,)\n",
            "3\n",
            "int64\n",
            "8\n"
          ]
        }
      ]
    }
  ]
}