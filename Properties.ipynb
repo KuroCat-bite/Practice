{
  "nbformat": 4,
  "nbformat_minor": 0,
  "metadata": {
    "colab": {
      "name": "Properties.ipynb",
      "provenance": [],
      "authorship_tag": "ABX9TyPUJGYgJcY7iNSXTVjIYUty",
      "include_colab_link": true
    },
    "kernelspec": {
      "name": "python3",
      "display_name": "Python 3"
    },
    "language_info": {
      "name": "python"
    }
  },
  "cells": [
    {
      "cell_type": "markdown",
      "metadata": {
        "id": "view-in-github",
        "colab_type": "text"
      },
      "source": [
        "<a href=\"https://colab.research.google.com/github/KuroCat-bite/Practice/blob/main/Properties.ipynb\" target=\"_parent\"><img src=\"https://colab.research.google.com/assets/colab-badge.svg\" alt=\"Open In Colab\"/></a>"
      ]
    },
    {
      "cell_type": "markdown",
      "source": [
        "# Properties\n",
        "* ndarray.ndim : dimensi (rank) dari sebuah nump array\n",
        "* ndarray.shape : baris dan kolum dari sebuah numpy array\n",
        "* ndarray.size : jumlah elemen di numpy array\n",
        "* ndarray.dtype : tipe data dari elemen yang ada di numpy array\n",
        "* ndarray.itemsize : ukuran elemen (bytes) yang ada di numpy array\n",
        "* ndarray.data : buffer untuk menyimpan elemen-elemen di numpy array\n"
      ],
      "metadata": {
        "id": "EPYw8eXVvcWd"
      }
    },
    {
      "cell_type": "code",
      "source": [
        "import numpy as np"
      ],
      "metadata": {
        "id": "kW4Bhq7BzNyL"
      },
      "execution_count": 3,
      "outputs": []
    },
    {
      "cell_type": "code",
      "source": [
        "a= np.array([1, 2, 3])\n",
        "b= np.array([(1, 2, 3), (4, 5, 6)])\n",
        "\n",
        "print(a.ndim)\n",
        "print(a.shape)\n",
        "print(a.size)\n",
        "print(a.dtype)\n",
        "print(a.itemsize)"
      ],
      "metadata": {
        "colab": {
          "base_uri": "https://localhost:8080/"
        },
        "id": "f4iF31Rvtj27",
        "outputId": "3c782b53-0161-49f5-dae9-f14f0b9cd968"
      },
      "execution_count": 4,
      "outputs": [
        {
          "output_type": "stream",
          "name": "stdout",
          "text": [
            "1\n",
            "(3,)\n",
            "3\n",
            "int64\n",
            "8\n"
          ]
        }
      ]
    },
    {
      "cell_type": "code",
      "source": [
        "print(b.ndim)\n",
        "print(b.shape)\n",
        "print(b.size)\n",
        "print(b.dtype)\n",
        "print(b.itemsize)"
      ],
      "metadata": {
        "colab": {
          "base_uri": "https://localhost:8080/"
        },
        "id": "CDAwUYivGI8-",
        "outputId": "30ab35ec-4b36-45f3-90c9-52a1310c1699"
      },
      "execution_count": 6,
      "outputs": [
        {
          "output_type": "stream",
          "name": "stdout",
          "text": [
            "2\n",
            "(2, 3)\n",
            "6\n",
            "int64\n",
            "8\n"
          ]
        }
      ]
    },
    {
      "cell_type": "markdown",
      "source": [
        "Create Numpy Arrays"
      ],
      "metadata": {
        "id": "BenTtJjCGyn0"
      }
    },
    {
      "cell_type": "markdown",
      "source": [
        "* np.zeros : isinya semua 0\n",
        "* np.ones : isinya semua 1\n",
        "* np.arange : berikan scop (start, stop, step) dan panjang dari step\n",
        "* np.linspace : berikan scope dan jumlah elemen yang diinginkan\n",
        "* np.random.random : memberikan angka acak\n"
      ],
      "metadata": {
        "id": "jDRVp-kYza0s"
      }
    },
    {
      "cell_type": "code",
      "source": [
        "np.zeros((3,3))"
      ],
      "metadata": {
        "colab": {
          "base_uri": "https://localhost:8080/"
        },
        "id": "j95StZoq0uZ-",
        "outputId": "4835636b-3f7a-4248-992b-0b3e3bb156de"
      },
      "execution_count": 7,
      "outputs": [
        {
          "output_type": "execute_result",
          "data": {
            "text/plain": [
              "array([[0., 0., 0.],\n",
              "       [0., 0., 0.],\n",
              "       [0., 0., 0.]])"
            ]
          },
          "metadata": {},
          "execution_count": 7
        }
      ]
    },
    {
      "cell_type": "code",
      "source": [
        "np.ones((3, 3))"
      ],
      "metadata": {
        "colab": {
          "base_uri": "https://localhost:8080/"
        },
        "id": "IUhozfJg1DTf",
        "outputId": "1425731f-dcbe-4e4b-c5fc-fdb68a5e8d25"
      },
      "execution_count": 8,
      "outputs": [
        {
          "output_type": "execute_result",
          "data": {
            "text/plain": [
              "array([[1., 1., 1.],\n",
              "       [1., 1., 1.],\n",
              "       [1., 1., 1.]])"
            ]
          },
          "metadata": {},
          "execution_count": 8
        }
      ]
    },
    {
      "cell_type": "code",
      "source": [
        "np.arange(1, 2, 0.2)\n"
      ],
      "metadata": {
        "colab": {
          "base_uri": "https://localhost:8080/"
        },
        "id": "QFjiM9Av01wr",
        "outputId": "b11fcbb3-4ba5-4202-b6ac-08683e77440c"
      },
      "execution_count": 25,
      "outputs": [
        {
          "output_type": "execute_result",
          "data": {
            "text/plain": [
              "array([1. , 1.2, 1.4, 1.6, 1.8])"
            ]
          },
          "metadata": {},
          "execution_count": 25
        }
      ]
    },
    {
      "cell_type": "code",
      "source": [
        "np.linspace(1, 3, 10)"
      ],
      "metadata": {
        "colab": {
          "base_uri": "https://localhost:8080/"
        },
        "id": "o62I0amK1b6h",
        "outputId": "df68116e-4157-449e-fe1e-8332fdfe8a0b"
      },
      "execution_count": 27,
      "outputs": [
        {
          "output_type": "execute_result",
          "data": {
            "text/plain": [
              "array([1.        , 1.22222222, 1.44444444, 1.66666667, 1.88888889,\n",
              "       2.11111111, 2.33333333, 2.55555556, 2.77777778, 3.        ])"
            ]
          },
          "metadata": {},
          "execution_count": 27
        }
      ]
    },
    {
      "cell_type": "code",
      "source": [
        "np.random.random((2, 3))"
      ],
      "metadata": {
        "colab": {
          "base_uri": "https://localhost:8080/"
        },
        "id": "E6Myhq2e3txr",
        "outputId": "d1fb5857-e6f6-43ec-a3ec-38331cd0b301"
      },
      "execution_count": 28,
      "outputs": [
        {
          "output_type": "execute_result",
          "data": {
            "text/plain": [
              "array([[0.62050198, 0.27732336, 0.07009265],\n",
              "       [0.90568594, 0.20751458, 0.51972922]])"
            ]
          },
          "metadata": {},
          "execution_count": 28
        }
      ]
    }
  ]
}