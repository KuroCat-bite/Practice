{
  "nbformat": 4,
  "nbformat_minor": 0,
  "metadata": {
    "colab": {
      "name": "Indexing & Mathematics.ipynb",
      "provenance": [],
      "authorship_tag": "ABX9TyMvHGvTXZYWIP1ZaHKnzUuk",
      "include_colab_link": true
    },
    "kernelspec": {
      "name": "python3",
      "display_name": "Python 3"
    },
    "language_info": {
      "name": "python"
    }
  },
  "cells": [
    {
      "cell_type": "markdown",
      "metadata": {
        "id": "view-in-github",
        "colab_type": "text"
      },
      "source": [
        "<a href=\"https://colab.research.google.com/github/KuroCat-bite/Practice/blob/main/Indexing_%26_Mathematics.ipynb\" target=\"_parent\"><img src=\"https://colab.research.google.com/assets/colab-badge.svg\" alt=\"Open In Colab\"/></a>"
      ]
    },
    {
      "cell_type": "markdown",
      "source": [
        "# Indexing"
      ],
      "metadata": {
        "id": "-Z0cGbEKmGyJ"
      }
    },
    {
      "cell_type": "code",
      "source": [
        "import numpy as np"
      ],
      "metadata": {
        "id": "uIs84WOtmica"
      },
      "execution_count": 39,
      "outputs": []
    },
    {
      "cell_type": "code",
      "source": [
        "data = np.arange(100, 200)\n",
        "data"
      ],
      "metadata": {
        "colab": {
          "base_uri": "https://localhost:8080/"
        },
        "id": "QPV1n3JtmWha",
        "outputId": "10126516-fd21-42e9-d42a-85b1f2d6dd4e"
      },
      "execution_count": null,
      "outputs": [
        {
          "output_type": "execute_result",
          "data": {
            "text/plain": [
              "array([100, 101, 102, 103, 104, 105, 106, 107, 108, 109, 110, 111, 112,\n",
              "       113, 114, 115, 116, 117, 118, 119, 120, 121, 122, 123, 124, 125,\n",
              "       126, 127, 128, 129, 130, 131, 132, 133, 134, 135, 136, 137, 138,\n",
              "       139, 140, 141, 142, 143, 144, 145, 146, 147, 148, 149, 150, 151,\n",
              "       152, 153, 154, 155, 156, 157, 158, 159, 160, 161, 162, 163, 164,\n",
              "       165, 166, 167, 168, 169, 170, 171, 172, 173, 174, 175, 176, 177,\n",
              "       178, 179, 180, 181, 182, 183, 184, 185, 186, 187, 188, 189, 190,\n",
              "       191, 192, 193, 194, 195, 196, 197, 198, 199])"
            ]
          },
          "metadata": {},
          "execution_count": 10
        }
      ]
    },
    {
      "cell_type": "code",
      "source": [
        "data[0]"
      ],
      "metadata": {
        "colab": {
          "base_uri": "https://localhost:8080/"
        },
        "id": "M9TxXY2VmhF2",
        "outputId": "0c7b6e7a-b950-4167-a171-17a78b19ab3a"
      },
      "execution_count": null,
      "outputs": [
        {
          "output_type": "execute_result",
          "data": {
            "text/plain": [
              "100"
            ]
          },
          "metadata": {},
          "execution_count": 5
        }
      ]
    },
    {
      "cell_type": "code",
      "source": [
        "fives = np.arange(0, 100, 5)\n",
        "fives"
      ],
      "metadata": {
        "colab": {
          "base_uri": "https://localhost:8080/"
        },
        "id": "NEiVQSt9nN_t",
        "outputId": "fcb4fd78-2a21-4b93-8d0c-01c69b715a73"
      },
      "execution_count": null,
      "outputs": [
        {
          "output_type": "execute_result",
          "data": {
            "text/plain": [
              "array([ 0,  5, 10, 15, 20, 25, 30, 35, 40, 45, 50, 55, 60, 65, 70, 75, 80,\n",
              "       85, 90, 95])"
            ]
          },
          "metadata": {},
          "execution_count": 7
        }
      ]
    },
    {
      "cell_type": "code",
      "source": [
        "data[fives]"
      ],
      "metadata": {
        "colab": {
          "base_uri": "https://localhost:8080/"
        },
        "id": "sGNQDCUSnXKt",
        "outputId": "96cfcb6e-c917-479a-fec4-63fc50bce007"
      },
      "execution_count": null,
      "outputs": [
        {
          "output_type": "execute_result",
          "data": {
            "text/plain": [
              "array([100, 105, 110, 115, 120, 125, 130, 135, 140, 145, 150, 155, 160,\n",
              "       165, 170, 175, 180, 185, 190, 195])"
            ]
          },
          "metadata": {},
          "execution_count": 8
        }
      ]
    },
    {
      "cell_type": "code",
      "source": [
        "data2D = data.reshape(10, -1)\n",
        "data2D"
      ],
      "metadata": {
        "colab": {
          "base_uri": "https://localhost:8080/"
        },
        "id": "0naSf6__nzCb",
        "outputId": "cfa85fec-d612-4612-8808-2618386e1fe6"
      },
      "execution_count": null,
      "outputs": [
        {
          "output_type": "execute_result",
          "data": {
            "text/plain": [
              "array([[100, 101, 102, 103, 104, 105, 106, 107, 108, 109],\n",
              "       [110, 111, 112, 113, 114, 115, 116, 117, 118, 119],\n",
              "       [120, 121, 122, 123, 124, 125, 126, 127, 128, 129],\n",
              "       [130, 131, 132, 133, 134, 135, 136, 137, 138, 139],\n",
              "       [140, 141, 142, 143, 144, 145, 146, 147, 148, 149],\n",
              "       [150, 151, 152, 153, 154, 155, 156, 157, 158, 159],\n",
              "       [160, 161, 162, 163, 164, 165, 166, 167, 168, 169],\n",
              "       [170, 171, 172, 173, 174, 175, 176, 177, 178, 179],\n",
              "       [180, 181, 182, 183, 184, 185, 186, 187, 188, 189],\n",
              "       [190, 191, 192, 193, 194, 195, 196, 197, 198, 199]])"
            ]
          },
          "metadata": {},
          "execution_count": 17
        }
      ]
    },
    {
      "cell_type": "code",
      "source": [
        "print(data.ndim)"
      ],
      "metadata": {
        "colab": {
          "base_uri": "https://localhost:8080/"
        },
        "id": "7KVL0ZB7oNGO",
        "outputId": "166ca88b-50e8-4cdc-8fe6-afe762c70202"
      },
      "execution_count": null,
      "outputs": [
        {
          "output_type": "stream",
          "name": "stdout",
          "text": [
            "1\n"
          ]
        }
      ]
    },
    {
      "cell_type": "code",
      "source": [
        "data2D[2]"
      ],
      "metadata": {
        "colab": {
          "base_uri": "https://localhost:8080/"
        },
        "id": "MS6F4uXoopqj",
        "outputId": "91e6efd6-a223-4904-8dae-6ce22fd3338a"
      },
      "execution_count": null,
      "outputs": [
        {
          "output_type": "execute_result",
          "data": {
            "text/plain": [
              "array([120, 121, 122, 123, 124, 125, 126, 127, 128, 129])"
            ]
          },
          "metadata": {},
          "execution_count": 20
        }
      ]
    },
    {
      "cell_type": "code",
      "source": [
        "data2D[2, :]"
      ],
      "metadata": {
        "colab": {
          "base_uri": "https://localhost:8080/"
        },
        "id": "aIcX2Y-optLH",
        "outputId": "ee8ead37-fa59-45ca-e5a7-9b423b724ccf"
      },
      "execution_count": null,
      "outputs": [
        {
          "output_type": "execute_result",
          "data": {
            "text/plain": [
              "array([120, 121, 122, 123, 124, 125, 126, 127, 128, 129])"
            ]
          },
          "metadata": {},
          "execution_count": 23
        }
      ]
    },
    {
      "cell_type": "code",
      "source": [
        "data2D[:, 3]"
      ],
      "metadata": {
        "colab": {
          "base_uri": "https://localhost:8080/"
        },
        "id": "hpiZ7aL5qBfo",
        "outputId": "1714c50c-7b78-49ed-fac0-66354da4ccfc"
      },
      "execution_count": null,
      "outputs": [
        {
          "output_type": "execute_result",
          "data": {
            "text/plain": [
              "array([103, 113, 123, 133, 143, 153, 163, 173, 183, 193])"
            ]
          },
          "metadata": {},
          "execution_count": 24
        }
      ]
    },
    {
      "cell_type": "code",
      "source": [
        "data2D[2, 1]"
      ],
      "metadata": {
        "colab": {
          "base_uri": "https://localhost:8080/"
        },
        "id": "Uq8uSw25pcZi",
        "outputId": "a55fc6c7-c413-47af-f732-5ef9c2778967"
      },
      "execution_count": null,
      "outputs": [
        {
          "output_type": "execute_result",
          "data": {
            "text/plain": [
              "121"
            ]
          },
          "metadata": {},
          "execution_count": 21
        }
      ]
    },
    {
      "cell_type": "code",
      "source": [
        "data2D[-1, -1]"
      ],
      "metadata": {
        "colab": {
          "base_uri": "https://localhost:8080/"
        },
        "id": "kVnTnpDVpeno",
        "outputId": "996746c2-6391-492a-eaee-bd5c51500965"
      },
      "execution_count": null,
      "outputs": [
        {
          "output_type": "execute_result",
          "data": {
            "text/plain": [
              "199"
            ]
          },
          "metadata": {},
          "execution_count": 22
        }
      ]
    },
    {
      "cell_type": "code",
      "source": [
        "data2D[1:4, 3:5]"
      ],
      "metadata": {
        "colab": {
          "base_uri": "https://localhost:8080/"
        },
        "id": "u4FJ-cI4qHUQ",
        "outputId": "7d22a24d-e8ee-4d31-f028-1bd94ba5abc7"
      },
      "execution_count": null,
      "outputs": [
        {
          "output_type": "execute_result",
          "data": {
            "text/plain": [
              "array([[113, 114],\n",
              "       [123, 124],\n",
              "       [133, 134]])"
            ]
          },
          "metadata": {},
          "execution_count": 26
        }
      ]
    },
    {
      "cell_type": "markdown",
      "source": [
        "# Mathematics"
      ],
      "metadata": {
        "id": "Kn2mSEa_qOsB"
      }
    },
    {
      "cell_type": "code",
      "source": [
        "numbers = np.random.random((5, 5))\n",
        "numbers"
      ],
      "metadata": {
        "colab": {
          "base_uri": "https://localhost:8080/"
        },
        "id": "TdBGNgXxsHtC",
        "outputId": "463b7354-22be-4bbb-934d-07d556f41802"
      },
      "execution_count": null,
      "outputs": [
        {
          "output_type": "execute_result",
          "data": {
            "text/plain": [
              "array([[0.22673715, 0.73077144, 0.12577922, 0.22493438, 0.61265633],\n",
              "       [0.38005856, 0.82056677, 0.90772837, 0.39881845, 0.9440801 ],\n",
              "       [0.99588478, 0.36462241, 0.66181215, 0.71250736, 0.71203616],\n",
              "       [0.50273299, 0.06322567, 0.7185342 , 0.99605358, 0.51358626],\n",
              "       [0.41753501, 0.01085191, 0.08920747, 0.98650545, 0.63222238]])"
            ]
          },
          "metadata": {},
          "execution_count": 29
        }
      ]
    },
    {
      "cell_type": "code",
      "source": [
        "print(np.amin(numbers))\n",
        "print(np.amax(numbers))\n",
        "print(np.average(numbers))\n",
        "print(np.sum(numbers))"
      ],
      "metadata": {
        "colab": {
          "base_uri": "https://localhost:8080/"
        },
        "id": "P2XBp9X2sO6i",
        "outputId": "34a692b2-4b5c-4149-9cd1-ebf649ac50a5"
      },
      "execution_count": null,
      "outputs": [
        {
          "output_type": "stream",
          "name": "stdout",
          "text": [
            "0.010851905192413192\n",
            "0.9960535793946121\n",
            "0.5499779415771482\n",
            "13.749448539428705\n"
          ]
        }
      ]
    },
    {
      "cell_type": "code",
      "source": [
        "np.sqrt(numbers)"
      ],
      "metadata": {
        "colab": {
          "base_uri": "https://localhost:8080/"
        },
        "id": "ekUd7qOYtVwo",
        "outputId": "eadea706-dc06-4780-aea0-6c1bdd543a28"
      },
      "execution_count": null,
      "outputs": [
        {
          "output_type": "execute_result",
          "data": {
            "text/plain": [
              "array([[0.47616925, 0.85485171, 0.35465366, 0.47427247, 0.78272366],\n",
              "       [0.6164889 , 0.9058514 , 0.9527478 , 0.63152074, 0.97163784],\n",
              "       [0.99794027, 0.60383972, 0.81351838, 0.84410151, 0.84382235],\n",
              "       [0.70903666, 0.25144715, 0.84766397, 0.99802484, 0.71664933],\n",
              "       [0.64616949, 0.10417248, 0.29867619, 0.99322981, 0.79512413]])"
            ]
          },
          "metadata": {},
          "execution_count": 33
        }
      ]
    },
    {
      "cell_type": "code",
      "source": [
        "np.sin(numbers)"
      ],
      "metadata": {
        "colab": {
          "base_uri": "https://localhost:8080/"
        },
        "id": "XLirs5Q2tZnn",
        "outputId": "6e572abe-bc92-431f-8409-4ea3a5e8cabd"
      },
      "execution_count": null,
      "outputs": [
        {
          "output_type": "execute_result",
          "data": {
            "text/plain": [
              "array([[0.22479939, 0.66744429, 0.12544784, 0.2230424 , 0.57504269],\n",
              "       [0.37097485, 0.73153237, 0.7881075 , 0.38832979, 0.80995777],\n",
              "       [0.8392404 , 0.35659655, 0.61454743, 0.6537332 , 0.65337657],\n",
              "       [0.48182217, 0.06318355, 0.65828197, 0.83933218, 0.49130399],\n",
              "       [0.40550846, 0.01085169, 0.0890892 , 0.83410345, 0.59093905]])"
            ]
          },
          "metadata": {},
          "execution_count": 35
        }
      ]
    },
    {
      "cell_type": "code",
      "source": [
        "sample = np.arange(1, 21)\n",
        "sample"
      ],
      "metadata": {
        "colab": {
          "base_uri": "https://localhost:8080/"
        },
        "id": "F4mtTILIvN2i",
        "outputId": "f140d3ee-ca29-4cab-d02c-4fc8567dc9c8"
      },
      "execution_count": null,
      "outputs": [
        {
          "output_type": "execute_result",
          "data": {
            "text/plain": [
              "array([ 1,  2,  3,  4,  5,  6,  7,  8,  9, 10, 11, 12, 13, 14, 15, 16, 17,\n",
              "       18, 19, 20])"
            ]
          },
          "metadata": {},
          "execution_count": 38
        }
      ]
    },
    {
      "cell_type": "code",
      "source": [
        "sample + sample"
      ],
      "metadata": {
        "colab": {
          "base_uri": "https://localhost:8080/"
        },
        "id": "nCafm_aMvTDb",
        "outputId": "46ca5cd9-26a1-41a1-8f4c-feed1d519004"
      },
      "execution_count": null,
      "outputs": [
        {
          "output_type": "execute_result",
          "data": {
            "text/plain": [
              "array([ 2,  4,  6,  8, 10, 12, 14, 16, 18, 20, 22, 24, 26, 28, 30, 32, 34,\n",
              "       36, 38, 40])"
            ]
          },
          "metadata": {},
          "execution_count": 39
        }
      ]
    },
    {
      "cell_type": "code",
      "source": [
        "sample2 = np.arange(51, 71)\n",
        "sample2"
      ],
      "metadata": {
        "colab": {
          "base_uri": "https://localhost:8080/"
        },
        "id": "JaSROeizvvhP",
        "outputId": "127d4b09-a593-48c8-b090-ebb95c4d1c4a"
      },
      "execution_count": null,
      "outputs": [
        {
          "output_type": "execute_result",
          "data": {
            "text/plain": [
              "array([51, 52, 53, 54, 55, 56, 57, 58, 59, 60, 61, 62, 63, 64, 65, 66, 67,\n",
              "       68, 69, 70])"
            ]
          },
          "metadata": {},
          "execution_count": 42
        }
      ]
    },
    {
      "cell_type": "code",
      "source": [
        "sample + sample2"
      ],
      "metadata": {
        "colab": {
          "base_uri": "https://localhost:8080/"
        },
        "id": "tupQPZnGv-43",
        "outputId": "e35ff30a-e6dd-43cb-f499-5890bd7c07d3"
      },
      "execution_count": null,
      "outputs": [
        {
          "output_type": "execute_result",
          "data": {
            "text/plain": [
              "array([52, 54, 56, 58, 60, 62, 64, 66, 68, 70, 72, 74, 76, 78, 80, 82, 84,\n",
              "       86, 88, 90])"
            ]
          },
          "metadata": {},
          "execution_count": 43
        }
      ]
    },
    {
      "cell_type": "code",
      "source": [
        "sample -sample2"
      ],
      "metadata": {
        "colab": {
          "base_uri": "https://localhost:8080/"
        },
        "id": "G8qts8m-wBI_",
        "outputId": "1865f731-855a-43e7-fc64-47be82feaaf6"
      },
      "execution_count": null,
      "outputs": [
        {
          "output_type": "execute_result",
          "data": {
            "text/plain": [
              "array([-50, -50, -50, -50, -50, -50, -50, -50, -50, -50, -50, -50, -50,\n",
              "       -50, -50, -50, -50, -50, -50, -50])"
            ]
          },
          "metadata": {},
          "execution_count": 45
        }
      ]
    },
    {
      "cell_type": "code",
      "source": [
        "sample2-sample"
      ],
      "metadata": {
        "colab": {
          "base_uri": "https://localhost:8080/"
        },
        "id": "pfiGjmn8wEKx",
        "outputId": "ab5aaa19-4210-418d-cc63-2766e5534d83"
      },
      "execution_count": null,
      "outputs": [
        {
          "output_type": "execute_result",
          "data": {
            "text/plain": [
              "array([50, 50, 50, 50, 50, 50, 50, 50, 50, 50, 50, 50, 50, 50, 50, 50, 50,\n",
              "       50, 50, 50])"
            ]
          },
          "metadata": {},
          "execution_count": 46
        }
      ]
    },
    {
      "cell_type": "code",
      "source": [
        "sample2//sample"
      ],
      "metadata": {
        "colab": {
          "base_uri": "https://localhost:8080/"
        },
        "id": "wDtVvRRkwGfC",
        "outputId": "ded89527-98be-4432-870a-a051c883d638"
      },
      "execution_count": null,
      "outputs": [
        {
          "output_type": "execute_result",
          "data": {
            "text/plain": [
              "array([51, 26, 17, 13, 11,  9,  8,  7,  6,  6,  5,  5,  4,  4,  4,  4,  3,\n",
              "        3,  3,  3])"
            ]
          },
          "metadata": {},
          "execution_count": 50
        }
      ]
    },
    {
      "cell_type": "code",
      "source": [
        "tup1 = ('fisika', 'kimia', 1993, 2017)\n",
        "tup2 = np.arange(1, 8)\n",
        "print(tup1)\n",
        "print(tup2)"
      ],
      "metadata": {
        "colab": {
          "base_uri": "https://localhost:8080/"
        },
        "id": "NucedzYlwhuP",
        "outputId": "9d989b6f-406f-49e7-a879-9cadc8313ab7"
      },
      "execution_count": null,
      "outputs": [
        {
          "output_type": "stream",
          "name": "stdout",
          "text": [
            "('fisika', 'kimia', 1993, 2017)\n",
            "[1 2 3 4 5 6 7]\n"
          ]
        }
      ]
    },
    {
      "cell_type": "markdown",
      "source": [
        "# Matrix"
      ],
      "metadata": {
        "id": "Tvyjrpmlqzcn"
      }
    },
    {
      "cell_type": "code",
      "source": [
        "matrix = np.random.randint(1, 50,20)\n",
        "matrix"
      ],
      "metadata": {
        "id": "ebgK4Kqjq1zY",
        "outputId": "5f3bd2c8-851c-4820-fb27-41604ebc48b6",
        "colab": {
          "base_uri": "https://localhost:8080/"
        }
      },
      "execution_count": null,
      "outputs": [
        {
          "output_type": "execute_result",
          "data": {
            "text/plain": [
              "array([22, 35, 47, 24, 47, 16,  3, 48, 42, 34, 22, 18, 36, 24, 39, 30,  4,\n",
              "       47, 10, 41])"
            ]
          },
          "metadata": {},
          "execution_count": 9
        }
      ]
    },
    {
      "cell_type": "code",
      "source": [
        "matrix = matrix.reshape(4, -1)\n",
        "matrix"
      ],
      "metadata": {
        "id": "8DM31bn8IrmY",
        "outputId": "1bab435f-ff88-46e6-9608-d4233ff555f5",
        "colab": {
          "base_uri": "https://localhost:8080/"
        }
      },
      "execution_count": null,
      "outputs": [
        {
          "output_type": "execute_result",
          "data": {
            "text/plain": [
              "array([[22, 35, 47, 24, 47],\n",
              "       [16,  3, 48, 42, 34],\n",
              "       [22, 18, 36, 24, 39],\n",
              "       [30,  4, 47, 10, 41]])"
            ]
          },
          "metadata": {},
          "execution_count": 14
        }
      ]
    },
    {
      "cell_type": "code",
      "source": [
        "matrix = matrix.reshape(4, -1)\n",
        "matrix"
      ],
      "metadata": {
        "id": "3gBQ4lCqKcCZ",
        "outputId": "50471ab0-bf00-41b9-aa3b-f0b8946ca9e3",
        "colab": {
          "base_uri": "https://localhost:8080/"
        }
      },
      "execution_count": null,
      "outputs": [
        {
          "output_type": "execute_result",
          "data": {
            "text/plain": [
              "array([[23, 34, 10, 41, 30],\n",
              "       [37, 26, 30, 46, 38],\n",
              "       [18, 34, 32, 46, 39],\n",
              "       [47, 35, 32, 48, 17]])"
            ]
          },
          "metadata": {},
          "execution_count": 19
        }
      ]
    },
    {
      "cell_type": "code",
      "source": [
        "matrix.transpose()"
      ],
      "metadata": {
        "id": "kXXfU01kREWN",
        "outputId": "d2346d85-500f-4627-ba58-b2b92eafe6f4",
        "colab": {
          "base_uri": "https://localhost:8080/"
        }
      },
      "execution_count": null,
      "outputs": [
        {
          "output_type": "execute_result",
          "data": {
            "text/plain": [
              "array([[23, 37, 18, 47],\n",
              "       [34, 26, 34, 35],\n",
              "       [10, 30, 32, 32],\n",
              "       [41, 46, 46, 48],\n",
              "       [30, 38, 39, 17]])"
            ]
          },
          "metadata": {},
          "execution_count": 22
        }
      ]
    },
    {
      "cell_type": "code",
      "source": [
        "np.dot(matrix, -1)"
      ],
      "metadata": {
        "id": "GlHUu9rGRtGi",
        "outputId": "001351b3-3828-4403-a70e-87f2bf90e24d",
        "colab": {
          "base_uri": "https://localhost:8080/"
        }
      },
      "execution_count": null,
      "outputs": [
        {
          "output_type": "execute_result",
          "data": {
            "text/plain": [
              "array([[-23, -34, -10, -41, -30],\n",
              "       [-37, -26, -30, -46, -38],\n",
              "       [-18, -34, -32, -46, -39],\n",
              "       [-47, -35, -32, -48, -17]])"
            ]
          },
          "metadata": {},
          "execution_count": 23
        }
      ]
    },
    {
      "cell_type": "code",
      "source": [
        "a1 = np.arange(16)\n",
        "a1"
      ],
      "metadata": {
        "id": "JEnXulw2S2T8",
        "outputId": "af240468-92ba-49c6-da47-f2b12639f3eb",
        "colab": {
          "base_uri": "https://localhost:8080/"
        }
      },
      "execution_count": 54,
      "outputs": [
        {
          "output_type": "execute_result",
          "data": {
            "text/plain": [
              "array([ 0,  1,  2,  3,  4,  5,  6,  7,  8,  9, 10, 11, 12, 13, 14, 15])"
            ]
          },
          "metadata": {},
          "execution_count": 54
        }
      ]
    },
    {
      "cell_type": "code",
      "source": [
        "b1 = np.arange(16)\n",
        "b1"
      ],
      "metadata": {
        "id": "kbS0l5SGS_sy",
        "outputId": "41c4c18a-ef71-4a12-836f-db6429fb7d7e",
        "colab": {
          "base_uri": "https://localhost:8080/"
        }
      },
      "execution_count": 55,
      "outputs": [
        {
          "output_type": "execute_result",
          "data": {
            "text/plain": [
              "array([ 0,  1,  2,  3,  4,  5,  6,  7,  8,  9, 10, 11, 12, 13, 14, 15])"
            ]
          },
          "metadata": {},
          "execution_count": 55
        }
      ]
    },
    {
      "cell_type": "code",
      "source": [
        "np.dot(a1, b1)"
      ],
      "metadata": {
        "id": "oBcEJ80QR_RD",
        "outputId": "b21c720b-c35b-488a-f412-022fec793f36",
        "colab": {
          "base_uri": "https://localhost:8080/"
        }
      },
      "execution_count": 7,
      "outputs": [
        {
          "output_type": "execute_result",
          "data": {
            "text/plain": [
              "935"
            ]
          },
          "metadata": {},
          "execution_count": 7
        }
      ]
    },
    {
      "cell_type": "code",
      "source": [
        "a1 = a1.reshape(4, 4)\n",
        "a1"
      ],
      "metadata": {
        "id": "lLwajKrQ-K0D",
        "outputId": "26eed8ce-036b-4e8f-96c7-f5566c535870",
        "colab": {
          "base_uri": "https://localhost:8080/"
        }
      },
      "execution_count": 56,
      "outputs": [
        {
          "output_type": "execute_result",
          "data": {
            "text/plain": [
              "array([[ 0,  1,  2,  3],\n",
              "       [ 4,  5,  6,  7],\n",
              "       [ 8,  9, 10, 11],\n",
              "       [12, 13, 14, 15]])"
            ]
          },
          "metadata": {},
          "execution_count": 56
        }
      ]
    },
    {
      "cell_type": "code",
      "source": [
        "b1 = b1.reshape(4, 4)\n",
        "b1"
      ],
      "metadata": {
        "id": "7P3mG5_v_H4b",
        "outputId": "c665fd04-c17c-444c-c1a9-094c07d8313a",
        "colab": {
          "base_uri": "https://localhost:8080/"
        }
      },
      "execution_count": 57,
      "outputs": [
        {
          "output_type": "execute_result",
          "data": {
            "text/plain": [
              "array([[ 0,  1,  2,  3],\n",
              "       [ 4,  5,  6,  7],\n",
              "       [ 8,  9, 10, 11],\n",
              "       [12, 13, 14, 15]])"
            ]
          },
          "metadata": {},
          "execution_count": 57
        }
      ]
    },
    {
      "cell_type": "code",
      "source": [
        "a1@b1"
      ],
      "metadata": {
        "id": "pmYyji9yHwgU",
        "outputId": "3622fa14-8542-43d0-e9b4-eaa8c401df64",
        "colab": {
          "base_uri": "https://localhost:8080/"
        }
      },
      "execution_count": 58,
      "outputs": [
        {
          "output_type": "execute_result",
          "data": {
            "text/plain": [
              "array([[ 56,  62,  68,  74],\n",
              "       [152, 174, 196, 218],\n",
              "       [248, 286, 324, 362],\n",
              "       [344, 398, 452, 506]])"
            ]
          },
          "metadata": {},
          "execution_count": 58
        }
      ]
    },
    {
      "cell_type": "code",
      "source": [
        "np.matmul(a1, b1)"
      ],
      "metadata": {
        "id": "Qm1aR8GI9kGC",
        "outputId": "8582ac22-8551-43b7-c699-b99df257eacf",
        "colab": {
          "base_uri": "https://localhost:8080/"
        }
      },
      "execution_count": 59,
      "outputs": [
        {
          "output_type": "execute_result",
          "data": {
            "text/plain": [
              "array([[ 56,  62,  68,  74],\n",
              "       [152, 174, 196, 218],\n",
              "       [248, 286, 324, 362],\n",
              "       [344, 398, 452, 506]])"
            ]
          },
          "metadata": {},
          "execution_count": 59
        }
      ]
    }
  ]
}