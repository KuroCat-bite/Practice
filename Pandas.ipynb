{
  "nbformat": 4,
  "nbformat_minor": 0,
  "metadata": {
    "colab": {
      "name": "Pandas.ipynb",
      "provenance": [],
      "authorship_tag": "ABX9TyPKz8my0DmClAD5iiiO/zFz",
      "include_colab_link": true
    },
    "kernelspec": {
      "name": "python3",
      "display_name": "Python 3"
    },
    "language_info": {
      "name": "python"
    }
  },
  "cells": [
    {
      "cell_type": "markdown",
      "metadata": {
        "id": "view-in-github",
        "colab_type": "text"
      },
      "source": [
        "<a href=\"https://colab.research.google.com/github/KuroCat-bite/Practice/blob/main/Pandas.ipynb\" target=\"_parent\"><img src=\"https://colab.research.google.com/assets/colab-badge.svg\" alt=\"Open In Colab\"/></a>"
      ]
    },
    {
      "cell_type": "code",
      "execution_count": null,
      "metadata": {
        "id": "pvRs7SNINtoQ"
      },
      "outputs": [],
      "source": [
        "import pandas as pd"
      ]
    },
    {
      "cell_type": "markdown",
      "source": [
        "# Series"
      ],
      "metadata": {
        "id": "dxlPKgqesbnx"
      }
    },
    {
      "cell_type": "code",
      "source": [
        "temperatures = [25, 30, 32, 30, 29]\n",
        "temperatures"
      ],
      "metadata": {
        "id": "M1Egraunshv4",
        "outputId": "0d674c89-185b-441d-c9ea-aa59db7d8d81",
        "colab": {
          "base_uri": "https://localhost:8080/"
        }
      },
      "execution_count": 17,
      "outputs": [
        {
          "output_type": "execute_result",
          "data": {
            "text/plain": [
              "[25, 30, 32, 30, 29]"
            ]
          },
          "metadata": {},
          "execution_count": 17
        }
      ]
    },
    {
      "cell_type": "code",
      "source": [
        "temperatures_series = pd.Series(temperatures)\n",
        "temperatures_series"
      ],
      "metadata": {
        "id": "5qh1VSNA1RR6",
        "outputId": "60ef50f3-b562-4698-8537-6c9fb007750e",
        "colab": {
          "base_uri": "https://localhost:8080/"
        }
      },
      "execution_count": null,
      "outputs": [
        {
          "output_type": "execute_result",
          "data": {
            "text/plain": [
              "0    25\n",
              "1    30\n",
              "2    32\n",
              "3    30\n",
              "4    29\n",
              "dtype: int64"
            ]
          },
          "metadata": {},
          "execution_count": 11
        }
      ]
    },
    {
      "cell_type": "markdown",
      "source": [
        "Analyze Series"
      ],
      "metadata": {
        "id": "53gW3OQt56NC"
      }
    },
    {
      "cell_type": "code",
      "source": [
        "# memanggil statistik mengenai series\n",
        "temperatures_series.describe()"
      ],
      "metadata": {
        "id": "Ds91UXLD3kPK",
        "outputId": "e16d0096-3fcf-449e-bf36-0a2a971ec108",
        "colab": {
          "base_uri": "https://localhost:8080/"
        }
      },
      "execution_count": null,
      "outputs": [
        {
          "output_type": "execute_result",
          "data": {
            "text/plain": [
              "count     5.000000\n",
              "mean     29.200000\n",
              "std       2.588436\n",
              "min      25.000000\n",
              "25%      29.000000\n",
              "50%      30.000000\n",
              "75%      30.000000\n",
              "max      32.000000\n",
              "dtype: float64"
            ]
          },
          "metadata": {},
          "execution_count": 13
        }
      ]
    },
    {
      "cell_type": "code",
      "source": [
        "temperatures_series.is_unique"
      ],
      "metadata": {
        "id": "2B5f_XgW3-Vi",
        "outputId": "c4d320c2-09cc-4612-9897-bd80ae12367d",
        "colab": {
          "base_uri": "https://localhost:8080/"
        }
      },
      "execution_count": 14,
      "outputs": [
        {
          "output_type": "execute_result",
          "data": {
            "text/plain": [
              "False"
            ]
          },
          "metadata": {},
          "execution_count": 14
        }
      ]
    },
    {
      "cell_type": "code",
      "source": [
        "temperatures_series.std()\n",
        "std_tempt = temperatures_series.std()\n",
        "std_tempt"
      ],
      "metadata": {
        "id": "NWiUpJkj5U96",
        "outputId": "70a1beea-ca7b-4672-9cfc-0d6e62e1f725",
        "colab": {
          "base_uri": "https://localhost:8080/"
        }
      },
      "execution_count": 16,
      "outputs": [
        {
          "output_type": "execute_result",
          "data": {
            "text/plain": [
              "2.588435821108957"
            ]
          },
          "metadata": {},
          "execution_count": 16
        }
      ]
    },
    {
      "cell_type": "markdown",
      "source": [
        "Access Values"
      ],
      "metadata": {
        "id": "agK49DGE6fBK"
      }
    },
    {
      "cell_type": "code",
      "source": [
        "temperatures = [25, 30, 32, 30, 29]\n",
        "temperatures_series = pd.Series(temperatures)\n",
        "print(temperatures)\n",
        "print(temperatures_series)\n"
      ],
      "metadata": {
        "id": "aIfse-Pl6jxg",
        "outputId": "f190322b-9e23-4e10-db45-ab4ba5eb2833",
        "colab": {
          "base_uri": "https://localhost:8080/"
        }
      },
      "execution_count": 18,
      "outputs": [
        {
          "output_type": "stream",
          "name": "stdout",
          "text": [
            "[25, 30, 32, 30, 29]\n",
            "0    25\n",
            "1    30\n",
            "2    32\n",
            "3    30\n",
            "4    29\n",
            "dtype: int64\n"
          ]
        }
      ]
    },
    {
      "cell_type": "code",
      "source": [
        "print(temperatures[2])"
      ],
      "metadata": {
        "id": "mY5YHFo6653R",
        "outputId": "61dd5629-ab60-4d4a-f5c8-46791f3c9b68",
        "colab": {
          "base_uri": "https://localhost:8080/"
        }
      },
      "execution_count": 19,
      "outputs": [
        {
          "output_type": "stream",
          "name": "stdout",
          "text": [
            "32\n"
          ]
        }
      ]
    },
    {
      "cell_type": "markdown",
      "source": [
        "Modify Values"
      ],
      "metadata": {
        "id": "3R7bCYN97ClE"
      }
    },
    {
      "cell_type": "code",
      "source": [
        "temperatures = [25, 30, 32, 30, 29]\n",
        "temperatures_series = pd.Series(temperatures)\n",
        "print(temperatures)\n",
        "print(temperatures_series)"
      ],
      "metadata": {
        "id": "NftIGl8G7GoU",
        "outputId": "3286366e-7473-48b9-c57c-e8ddf5290884",
        "colab": {
          "base_uri": "https://localhost:8080/"
        }
      },
      "execution_count": 32,
      "outputs": [
        {
          "output_type": "stream",
          "name": "stdout",
          "text": [
            "[25, 30, 32, 30, 29]\n",
            "0    25\n",
            "1    30\n",
            "2    32\n",
            "3    30\n",
            "4    29\n",
            "dtype: int64\n"
          ]
        }
      ]
    },
    {
      "cell_type": "code",
      "source": [
        "temperatures_series[1] = 26\n",
        "temperatures_series"
      ],
      "metadata": {
        "id": "aCSY_tYq7MKr",
        "outputId": "86e633ad-9499-432c-ff68-604b6f1d4e13",
        "colab": {
          "base_uri": "https://localhost:8080/"
        }
      },
      "execution_count": 33,
      "outputs": [
        {
          "output_type": "execute_result",
          "data": {
            "text/plain": [
              "0    25\n",
              "1    26\n",
              "2    32\n",
              "3    30\n",
              "4    29\n",
              "dtype: int64"
            ]
          },
          "metadata": {},
          "execution_count": 33
        }
      ]
    },
    {
      "cell_type": "code",
      "source": [
        "temperatures_series =temperatures_series + 1\n",
        "temperatures_series"
      ],
      "metadata": {
        "id": "KD5en83A8PMb",
        "outputId": "3341292d-f421-4d23-df68-4f3717eae5a9",
        "colab": {
          "base_uri": "https://localhost:8080/"
        }
      },
      "execution_count": 34,
      "outputs": [
        {
          "output_type": "execute_result",
          "data": {
            "text/plain": [
              "0    26\n",
              "1    27\n",
              "2    33\n",
              "3    31\n",
              "4    30\n",
              "dtype: int64"
            ]
          },
          "metadata": {},
          "execution_count": 34
        }
      ]
    }
  ]
}