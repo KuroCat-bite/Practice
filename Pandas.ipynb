{
  "nbformat": 4,
  "nbformat_minor": 0,
  "metadata": {
    "colab": {
      "name": "Pandas.ipynb",
      "provenance": [],
      "authorship_tag": "ABX9TyM0UEf+cpbdfATJTw/Jp18m",
      "include_colab_link": true
    },
    "kernelspec": {
      "name": "python3",
      "display_name": "Python 3"
    },
    "language_info": {
      "name": "python"
    }
  },
  "cells": [
    {
      "cell_type": "markdown",
      "metadata": {
        "id": "view-in-github",
        "colab_type": "text"
      },
      "source": [
        "<a href=\"https://colab.research.google.com/github/KuroCat-bite/Practice/blob/main/Pandas.ipynb\" target=\"_parent\"><img src=\"https://colab.research.google.com/assets/colab-badge.svg\" alt=\"Open In Colab\"/></a>"
      ]
    },
    {
      "cell_type": "code",
      "execution_count": 3,
      "metadata": {
        "id": "pvRs7SNINtoQ"
      },
      "outputs": [],
      "source": [
        "import pandas as pd"
      ]
    },
    {
      "cell_type": "markdown",
      "source": [
        "# Series"
      ],
      "metadata": {
        "id": "dxlPKgqesbnx"
      }
    },
    {
      "cell_type": "code",
      "source": [
        "temperatures = (25, 30, 32, 30, 29)\n",
        "temperatures"
      ],
      "metadata": {
        "id": "M1Egraunshv4",
        "outputId": "1819cb5f-4c58-492f-de26-30cfa2409f37",
        "colab": {
          "base_uri": "https://localhost:8080/"
        }
      },
      "execution_count": 9,
      "outputs": [
        {
          "output_type": "execute_result",
          "data": {
            "text/plain": [
              "(25, 30, 32, 30, 29)"
            ]
          },
          "metadata": {},
          "execution_count": 9
        }
      ]
    },
    {
      "cell_type": "code",
      "source": [
        "temperatures_series = pd.Series(temperatures)\n",
        "temperatures_series"
      ],
      "metadata": {
        "id": "5qh1VSNA1RR6",
        "outputId": "60ef50f3-b562-4698-8537-6c9fb007750e",
        "colab": {
          "base_uri": "https://localhost:8080/"
        }
      },
      "execution_count": 11,
      "outputs": [
        {
          "output_type": "execute_result",
          "data": {
            "text/plain": [
              "0    25\n",
              "1    30\n",
              "2    32\n",
              "3    30\n",
              "4    29\n",
              "dtype: int64"
            ]
          },
          "metadata": {},
          "execution_count": 11
        }
      ]
    },
    {
      "cell_type": "code",
      "source": [
        "# memanggil statistik mengenai series\n",
        "temperatures_series.describe()"
      ],
      "metadata": {
        "id": "Ds91UXLD3kPK",
        "outputId": "e16d0096-3fcf-449e-bf36-0a2a971ec108",
        "colab": {
          "base_uri": "https://localhost:8080/"
        }
      },
      "execution_count": 13,
      "outputs": [
        {
          "output_type": "execute_result",
          "data": {
            "text/plain": [
              "count     5.000000\n",
              "mean     29.200000\n",
              "std       2.588436\n",
              "min      25.000000\n",
              "25%      29.000000\n",
              "50%      30.000000\n",
              "75%      30.000000\n",
              "max      32.000000\n",
              "dtype: float64"
            ]
          },
          "metadata": {},
          "execution_count": 13
        }
      ]
    }
  ]
}